{
 "cells": [
  {
   "cell_type": "markdown",
   "id": "a17fb91a",
   "metadata": {},
   "source": [
    "# Inventory Management with Files - Overview"
   ]
  },
  {
   "cell_type": "markdown",
   "id": "c05b74f5",
   "metadata": {},
   "source": [
    "# what is Inventory"
   ]
  },
  {
   "cell_type": "markdown",
   "id": "68f98c8b",
   "metadata": {},
   "source": [
    "Inventory refers to all the items, goods, merchandise, and materials held by a business for selling in the market to earn a profit. Example: If a newspaper vendor uses a vehicle to deliver newspapers to the customers, only the newspaper will be considered inventory."
   ]
  },
  {
   "cell_type": "markdown",
   "id": "88a4e9e5",
   "metadata": {},
   "source": [
    "# first create a file"
   ]
  },
  {
   "cell_type": "code",
   "execution_count": 1,
   "id": "638a5306",
   "metadata": {},
   "outputs": [],
   "source": [
    "fd=open('Desktop/inventory','w')\n",
    "fd.close()"
   ]
  },
  {
   "cell_type": "markdown",
   "id": "c6048230",
   "metadata": {},
   "source": [
    "# Product details:\n",
    "1.Product ID\n",
    "\n",
    "2.Name of Product\n",
    "\n",
    "3.Price of Product\n",
    "\n",
    "4.Quality"
   ]
  },
  {
   "cell_type": "markdown",
   "id": "e9efe61a",
   "metadata": {},
   "source": [
    "# barcode : \n",
    "barcode means every product is having their unique code and evry barcode having unique product id     "
   ]
  },
  {
   "cell_type": "code",
   "execution_count": 3,
   "id": "1893a383",
   "metadata": {},
   "outputs": [],
   "source": [
    "fd=open('Desktop/inventory','r')\n",
    "txt=fd.read()\n",
    "fd.close()"
   ]
  },
  {
   "cell_type": "code",
   "execution_count": 4,
   "id": "b7650b73",
   "metadata": {},
   "outputs": [
    {
     "name": "stdout",
     "output_type": "stream",
     "text": [
      "1,five star,5,100\n",
      "2,milky bar,5,100\n",
      "3,cake,200,5\n",
      "4,candy,1,200\n"
     ]
    }
   ],
   "source": [
    "print(txt)"
   ]
  },
  {
   "cell_type": "code",
   "execution_count": 5,
   "id": "872b8015",
   "metadata": {},
   "outputs": [
    {
     "data": {
      "text/plain": [
       "'1,five star,5,100\\n2,milky bar,5,100\\n3,cake,200,5\\n4,candy,1,200'"
      ]
     },
     "execution_count": 5,
     "metadata": {},
     "output_type": "execute_result"
    }
   ],
   "source": [
    "txt"
   ]
  },
  {
   "cell_type": "markdown",
   "id": "c065008f",
   "metadata": {},
   "source": [
    "# want ro split by split()"
   ]
  },
  {
   "cell_type": "code",
   "execution_count": 6,
   "id": "f7295a14",
   "metadata": {},
   "outputs": [
    {
     "data": {
      "text/plain": [
       "['1,five star,5,100', '2,milky bar,5,100', '3,cake,200,5', '4,candy,1,200']"
      ]
     },
     "execution_count": 6,
     "metadata": {},
     "output_type": "execute_result"
    }
   ],
   "source": [
    "txt.split('\\n')"
   ]
  },
  {
   "cell_type": "markdown",
   "id": "6adc8438",
   "metadata": {},
   "source": [
    "# length of product by len()"
   ]
  },
  {
   "cell_type": "code",
   "execution_count": 7,
   "id": "30a1f7ad",
   "metadata": {},
   "outputs": [
    {
     "data": {
      "text/plain": [
       "4"
      ]
     },
     "execution_count": 7,
     "metadata": {},
     "output_type": "execute_result"
    }
   ],
   "source": [
    "len(txt.split('\\n'))"
   ]
  },
  {
   "cell_type": "markdown",
   "id": "49dfef75",
   "metadata": {},
   "source": [
    "# if user want to access single item at a time"
   ]
  },
  {
   "cell_type": "markdown",
   "id": "4302bb63",
   "metadata": {},
   "source": [
    "first we call all product"
   ]
  },
  {
   "cell_type": "code",
   "execution_count": 8,
   "id": "1cb6fac7",
   "metadata": {},
   "outputs": [],
   "source": [
    "fd=open('Desktop/inventory','r')\n",
    "products=fd.read()\n",
    "fd.close()"
   ]
  },
  {
   "cell_type": "markdown",
   "id": "d926262f",
   "metadata": {},
   "source": [
    "applying split() with this"
   ]
  },
  {
   "cell_type": "code",
   "execution_count": 9,
   "id": "484521af",
   "metadata": {},
   "outputs": [],
   "source": [
    "fd=open('Desktop/inventory','r')\n",
    "products=fd.read().split('\\n')\n",
    "fd.close()"
   ]
  },
  {
   "cell_type": "markdown",
   "id": "43002325",
   "metadata": {},
   "source": [
    "applying for loop to call "
   ]
  },
  {
   "cell_type": "code",
   "execution_count": 11,
   "id": "4fd934ca",
   "metadata": {},
   "outputs": [
    {
     "name": "stdout",
     "output_type": "stream",
     "text": [
      "1,five star,5,100\n",
      "2,milky bar,5,100\n",
      "3,cake,200,5\n",
      "4,candy,1,200\n"
     ]
    }
   ],
   "source": [
    "for i in products:\n",
    "    print(i)"
   ]
  },
  {
   "cell_type": "markdown",
   "id": "92473af1",
   "metadata": {},
   "source": [
    "now asked user to enter product id"
   ]
  },
  {
   "cell_type": "code",
   "execution_count": null,
   "id": "2395fc28",
   "metadata": {},
   "outputs": [],
   "source": [
    "# Noting the time of trasection\n",
    "import time\n",
    "\n",
    "# Reading the Inventory\n",
    "fd = open('Inventory.txt','r')  \n",
    "products = fd.read().split('\\n')\n",
    "fd.close()\n",
    "\n",
    "# Taking User Input\n",
    "ui_username = input(\"Enter your Name: \")\n",
    "ui_phone    = input(\"Enter your Phone No: \")\n",
    "ui_mail     = input(\"Enter your Mail: \")\n",
    "ui_prod_id  = input(\"Enter product ID: \")\n",
    "ui_prod_qn  = input(\"Enter product Quantity: \")\n",
    "\n",
    "updated_product_lst = []\n",
    "\n",
    "# Going through each product detail\n",
    "for product in products:\n",
    "    prod_details = product.split(',')\n",
    "    if(prod_details[0] == ui_prod_id):\n",
    "    # Checking if product exists or not\n",
    "\n",
    "        if (int(ui_prod_qn) <= int(prod_details[3])):\n",
    "        # If we're having enough quantity\n",
    "        \n",
    "            print(\"-----------------------------\")\n",
    "            print(\"Product Name     : \", prod_details[1])\n",
    "            print(\"Price            : \", prod_details[2]) \n",
    "            print(\"Quantity         : \", ui_prod_qn) \n",
    "            print(\"-----------------------------\")\n",
    "            print(\"Billing Amount   : \", int(ui_prod_qn) * int(prod_details[2]))\n",
    "            print(\"-----------------------------\")\n",
    "\n",
    "            # Updating Inventory list\n",
    "            prod_details[3] = str(int(prod_details[3]) - int(ui_prod_qn))\n",
    "            \n",
    "            # Generating Sales in Sales.txt\n",
    "            fd = open(\"Sales.txt\",'a')\n",
    "            sales_detail = ui_username +\",\"+ ui_phone +\",\"+ ui_mail +\",\"+prod_details[1] +\",\"+ ui_prod_id +\",\"+ ui_prod_qn +\",\"+ str(int(ui_prod_qn) * int(prod_details[2]))+\",\"+time.ctime()+ \"\\n\"\n",
    "            fd.write(sales_detail)\n",
    "            fd.close()\n",
    "            \n",
    "        else:\n",
    "        # If we're not having enough quantity\n",
    "        \n",
    "            print(\"Sorry, We're not having enought quantity.\")\n",
    "            print(\"We're having only\",prod_details[3],'quantity.')\n",
    "            print(\"Would you like to purchase it?\")\n",
    "            \n",
    "            ch = input(\"Press Y/N: \")\n",
    "            \n",
    "            if (ch == 'Y' or ch == 'y'):\n",
    "            # If you want to purchase with remaining quantity\n",
    "            \n",
    "                print(\"-----------------------------\")\n",
    "                print(\"Product Name     : \", prod_details[1])\n",
    "                print(\"Price            : \", prod_details[2]) \n",
    "                print(\"Quantity         : \", prod_details[3]) \n",
    "                print(\"-----------------------------\")\n",
    "                print(\"Billing Amount   : \", int(prod_details[3]) * int(prod_details[2]))\n",
    "                print(\"-----------------------------\")\n",
    "                \n",
    "                # Generating Sales in Sales.txt\n",
    "                fd = open(\"Sales.txt\",'a')\n",
    "                sales_detail = ui_username +\",\"+ ui_phone +\",\"+ ui_mail +\",\"+prod_details[1] +\",\"+ ui_prod_id +\",\"+ prod_details[3] +\",\"+ str(int(prod_details[3]) * int(prod_details[2]))+\",\"+time.ctime()+ \"\\n\"\n",
    "                fd.write(sales_detail)\n",
    "                fd.close()\n",
    "                \n",
    "                # Updating Inventory list\n",
    "                prod_details[3] = '0'\n",
    "\n",
    "            else:\n",
    "                print(\"Thanks\")\n",
    "            \n",
    "    # Updating my Inventory List\n",
    "    updated_product_lst.append(prod_details)\n",
    "    \n",
    "\n",
    "    \n",
    "lst = []\n",
    "\n",
    "# Updating my Inventory String\n",
    "for i in updated_product_lst:\n",
    "    prod = i[0] +\",\"+  i[1] +\",\"+ i[2] +\",\"+ i[3] + '\\n'\n",
    "    lst.append(prod)\n",
    "\n",
    "# Removing Last \\n from the list\n",
    "lst[-1] = lst[-1][:-1]\n",
    "    \n",
    "\n",
    "# Updating Inventory File\n",
    "fd = open('Inventory.txt','w')\n",
    "\n",
    "for i in lst:\n",
    "    fd.write(i)\n",
    "fd.close()\n",
    "\n",
    "print(\"Inventory Updated\")"
   ]
  },
  {
   "cell_type": "code",
   "execution_count": null,
   "id": "7e60cb6c",
   "metadata": {},
   "outputs": [],
   "source": []
  }
 ],
 "metadata": {
  "kernelspec": {
   "display_name": "Python 3 (ipykernel)",
   "language": "python",
   "name": "python3"
  },
  "language_info": {
   "codemirror_mode": {
    "name": "ipython",
    "version": 3
   },
   "file_extension": ".py",
   "mimetype": "text/x-python",
   "name": "python",
   "nbconvert_exporter": "python",
   "pygments_lexer": "ipython3",
   "version": "3.10.9"
  }
 },
 "nbformat": 4,
 "nbformat_minor": 5
}
